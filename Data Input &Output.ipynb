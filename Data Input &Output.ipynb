{
 "cells": [
  {
   "cell_type": "markdown",
   "metadata": {},
   "source": [
    "# Reading and Writing Data with Spark\n",
    "\n",
    "The data set is read in from a local file. \n",
    "First let's import SparkConf and SparkSession"
   ]
  },
  {
   "cell_type": "code",
   "execution_count": 1,
   "metadata": {},
   "outputs": [],
   "source": [
    "import pyspark\n",
    "from pyspark import SparkConf\n",
    "from pyspark.sql import SparkSession"
   ]
  },
  {
   "cell_type": "markdown",
   "metadata": {},
   "source": [
    "Since we're using Spark locally we already have both a sparkcontext and a sparksession running. We can update some of the parameters, such our application's name. Let's just call it \"Python Spark Data Loading example\""
   ]
  },
  {
   "cell_type": "code",
   "execution_count": 2,
   "metadata": {},
   "outputs": [],
   "source": [
    "spark=SparkSession\\\n",
    "    .builder\\\n",
    "    .appName('Songs')\\\n",
    "    .getOrCreate()"
   ]
  },
  {
   "cell_type": "markdown",
   "metadata": {},
   "source": [
    "Let's check if the change went through"
   ]
  },
  {
   "cell_type": "code",
   "execution_count": 12,
   "metadata": {},
   "outputs": [
    {
     "data": {
      "text/plain": [
       "<pyspark.conf.SparkConf at 0x1e6fdbe2070>"
      ]
     },
     "execution_count": 12,
     "metadata": {},
     "output_type": "execute_result"
    }
   ],
   "source": [
    "spark.sparkContext.getConf().getAll()"
   ]
  },
  {
   "cell_type": "code",
   "execution_count": 4,
   "metadata": {},
   "outputs": [
    {
     "data": {
      "text/html": [
       "\n",
       "            <div>\n",
       "                <p><b>SparkSession - in-memory</b></p>\n",
       "                \n",
       "        <div>\n",
       "            <p><b>SparkContext</b></p>\n",
       "\n",
       "            <p><a href=\"http://80L129.brembo.org:4040\">Spark UI</a></p>\n",
       "\n",
       "            <dl>\n",
       "              <dt>Version</dt>\n",
       "                <dd><code>v3.1.1</code></dd>\n",
       "              <dt>Master</dt>\n",
       "                <dd><code>local[*]</code></dd>\n",
       "              <dt>AppName</dt>\n",
       "                <dd><code>Songs</code></dd>\n",
       "            </dl>\n",
       "        </div>\n",
       "        \n",
       "            </div>\n",
       "        "
      ],
      "text/plain": [
       "<pyspark.sql.session.SparkSession at 0x1e6fdbd07c0>"
      ]
     },
     "execution_count": 4,
     "metadata": {},
     "output_type": "execute_result"
    }
   ],
   "source": [
    "spark"
   ]
  },
  {
   "cell_type": "markdown",
   "metadata": {},
   "source": [
    "we can see the app name is exactly how we set it\n",
    "\n",
    "Let's create our first dataframe from a fairly small sample data set. Througout the file we'll work with a log file data set that describes user interactions with a music streaming service. The records describe events such as logging in to the site, visiting a page, listening to the next song, seeing an ad."
   ]
  },
  {
   "cell_type": "code",
   "execution_count": 5,
   "metadata": {},
   "outputs": [],
   "source": [
    "path = \"data/tracks.csv\"\n",
    "user_log = spark.read.csv(path)"
   ]
  },
  {
   "cell_type": "code",
   "execution_count": 6,
   "metadata": {},
   "outputs": [
    {
     "name": "stdout",
     "output_type": "stream",
     "text": [
      "root\n",
      " |-- _c0: string (nullable = true)\n",
      " |-- _c1: string (nullable = true)\n",
      " |-- _c2: string (nullable = true)\n",
      " |-- _c3: string (nullable = true)\n",
      " |-- _c4: string (nullable = true)\n",
      " |-- _c5: string (nullable = true)\n",
      " |-- _c6: string (nullable = true)\n",
      " |-- _c7: string (nullable = true)\n",
      " |-- _c8: string (nullable = true)\n",
      " |-- _c9: string (nullable = true)\n",
      " |-- _c10: string (nullable = true)\n",
      " |-- _c11: string (nullable = true)\n",
      " |-- _c12: string (nullable = true)\n",
      " |-- _c13: string (nullable = true)\n",
      " |-- _c14: string (nullable = true)\n",
      " |-- _c15: string (nullable = true)\n",
      " |-- _c16: string (nullable = true)\n",
      " |-- _c17: string (nullable = true)\n",
      " |-- _c18: string (nullable = true)\n",
      " |-- _c19: string (nullable = true)\n",
      "\n"
     ]
    }
   ],
   "source": [
    "user_log.printSchema()"
   ]
  },
  {
   "cell_type": "code",
   "execution_count": 7,
   "metadata": {},
   "outputs": [
    {
     "data": {
      "text/plain": [
       "DataFrame[summary: string, _c0: string, _c1: string, _c2: string, _c3: string, _c4: string, _c5: string, _c6: string, _c7: string, _c8: string, _c9: string, _c10: string, _c11: string, _c12: string, _c13: string, _c14: string, _c15: string, _c16: string, _c17: string, _c18: string, _c19: string]"
      ]
     },
     "execution_count": 7,
     "metadata": {},
     "output_type": "execute_result"
    }
   ],
   "source": [
    "user_log.describe()"
   ]
  },
  {
   "cell_type": "code",
   "execution_count": 8,
   "metadata": {},
   "outputs": [
    {
     "name": "stdout",
     "output_type": "stream",
     "text": [
      "-RECORD 0--------------------\n",
      " _c0  | id                   \n",
      " _c1  | name                 \n",
      " _c2  | popularity           \n",
      " _c3  | duration_ms          \n",
      " _c4  | explicit             \n",
      " _c5  | artists              \n",
      " _c6  | id_artists           \n",
      " _c7  | release_date         \n",
      " _c8  | danceability         \n",
      " _c9  | energy               \n",
      " _c10 | key                  \n",
      " _c11 | loudness             \n",
      " _c12 | mode                 \n",
      " _c13 | speechiness          \n",
      " _c14 | acousticness         \n",
      " _c15 | instrumentalness     \n",
      " _c16 | liveness             \n",
      " _c17 | valence              \n",
      " _c18 | tempo                \n",
      " _c19 | time_signature       \n",
      "-RECORD 1--------------------\n",
      " _c0  | 35iwgR4jXetI318WE... \n",
      " _c1  | Carve                \n",
      " _c2  | 6                    \n",
      " _c3  | 126903               \n",
      " _c4  | 0                    \n",
      " _c5  | ['Uli']              \n",
      " _c6  | ['45tIt06XoI0Iio4... \n",
      " _c7  | 1922-02-22           \n",
      " _c8  | 0.645                \n",
      " _c9  | 0.445                \n",
      " _c10 | 0                    \n",
      " _c11 | -13.338              \n",
      " _c12 | 1                    \n",
      " _c13 | 0.451                \n",
      " _c14 | 0.674                \n",
      " _c15 | 0.744                \n",
      " _c16 | 0.151                \n",
      " _c17 | 0.127                \n",
      " _c18 | 104.851              \n",
      " _c19 | 3                    \n",
      "only showing top 2 rows\n",
      "\n"
     ]
    }
   ],
   "source": [
    "user_log.show(n=2,vertical=True)"
   ]
  },
  {
   "cell_type": "code",
   "execution_count": 9,
   "metadata": {},
   "outputs": [
    {
     "data": {
      "text/plain": [
       "[Row(_c0='id', _c1='name', _c2='popularity', _c3='duration_ms', _c4='explicit', _c5='artists', _c6='id_artists', _c7='release_date', _c8='danceability', _c9='energy', _c10='key', _c11='loudness', _c12='mode', _c13='speechiness', _c14='acousticness', _c15='instrumentalness', _c16='liveness', _c17='valence', _c18='tempo', _c19='time_signature'),\n",
       " Row(_c0='35iwgR4jXetI318WEWsa1Q', _c1='Carve', _c2='6', _c3='126903', _c4='0', _c5=\"['Uli']\", _c6=\"['45tIt06XoI0Iio4LBEVpls']\", _c7='1922-02-22', _c8='0.645', _c9='0.445', _c10='0', _c11='-13.338', _c12='1', _c13='0.451', _c14='0.674', _c15='0.744', _c16='0.151', _c17='0.127', _c18='104.851', _c19='3'),\n",
       " Row(_c0='021ht4sdgPcrDgSk7JTbKY', _c1='Capítulo 2.16 - Banquero Anarquista', _c2='0', _c3='98200', _c4='0', _c5=\"['Fernando Pessoa']\", _c6=\"['14jtPCOoNZwquk5wd9DxrY']\", _c7='1922-06-01', _c8='0.695', _c9='0.263', _c10='0', _c11='-22.136', _c12='1', _c13='0.957', _c14='0.797', _c15='0.0', _c16='0.148', _c17='0.655', _c18='102.009', _c19='1'),\n",
       " Row(_c0='07A5yehtSnoedViJAZkNnc', _c1='Vivo para Quererte - Remasterizado', _c2='0', _c3='181640', _c4='0', _c5=\"['Ignacio Corsini']\", _c6=\"['5LiOoJbxVSAMkBS2fUm3X2']\", _c7='1922-03-21', _c8='0.434', _c9='0.177', _c10='1', _c11='-21.18', _c12='1', _c13='0.0512', _c14='0.994', _c15='0.0218', _c16='0.212', _c17='0.457', _c18='130.418', _c19='5'),\n",
       " Row(_c0='08FmqUhxtyLTn6pAh6bk45', _c1='El Prisionero - Remasterizado', _c2='0', _c3='176907', _c4='0', _c5=\"['Ignacio Corsini']\", _c6=\"['5LiOoJbxVSAMkBS2fUm3X2']\", _c7='1922-03-21', _c8='0.321', _c9='0.0946', _c10='7', _c11='-27.961', _c12='1', _c13='0.0504', _c14='0.995', _c15='0.918', _c16='0.104', _c17='0.397', _c18='169.98', _c19='3')]"
      ]
     },
     "execution_count": 9,
     "metadata": {},
     "output_type": "execute_result"
    }
   ],
   "source": [
    "user_log.take(5)"
   ]
  },
  {
   "cell_type": "code",
   "execution_count": 10,
   "metadata": {},
   "outputs": [],
   "source": [
    "out_path = \"data/spotify1\"\n",
    "#user_log.write.save(out_path, mode='overwrite',format=\"csv\", header=True)"
   ]
  },
  {
   "cell_type": "code",
   "execution_count": 11,
   "metadata": {},
   "outputs": [
    {
     "name": "stdout",
     "output_type": "stream",
     "text": [
      "+-------------------+\n",
      "|                _c5|\n",
      "+-------------------+\n",
      "|            artists|\n",
      "|            ['Uli']|\n",
      "|['Fernando Pessoa']|\n",
      "|['Ignacio Corsini']|\n",
      "|['Ignacio Corsini']|\n",
      "|    ['Dick Haymes']|\n",
      "|    ['Dick Haymes']|\n",
      "|  ['Francis Marty']|\n",
      "|    ['Mistinguett']|\n",
      "|    ['Greg Fieler']|\n",
      "|['Ignacio Corsini']|\n",
      "|['Fernando Pessoa']|\n",
      "|['Fernando Pessoa']|\n",
      "|            ['Uli']|\n",
      "|   ['Lucien Boyer']|\n",
      "|    ['Félix Mayol']|\n",
      "|['Fernando Pessoa']|\n",
      "|['Fernando Pessoa']|\n",
      "|['Fernando Pessoa']|\n",
      "| ['Victor Boucher']|\n",
      "+-------------------+\n",
      "only showing top 20 rows\n",
      "\n"
     ]
    }
   ],
   "source": [
    "user_log.select(\"_c5\").show()"
   ]
  }
 ],
 "metadata": {
  "kernelspec": {
   "display_name": "Python 3",
   "language": "python",
   "name": "python3"
  },
  "language_info": {
   "codemirror_mode": {
    "name": "ipython",
    "version": 3
   },
   "file_extension": ".py",
   "mimetype": "text/x-python",
   "name": "python",
   "nbconvert_exporter": "python",
   "pygments_lexer": "ipython3",
   "version": "3.8.5"
  }
 },
 "nbformat": 4,
 "nbformat_minor": 4
}
